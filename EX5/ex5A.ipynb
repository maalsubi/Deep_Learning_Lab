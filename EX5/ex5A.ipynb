{
 "cells": [
  {
   "cell_type": "code",
   "execution_count": 7,
   "metadata": {},
   "outputs": [],
   "source": [
    "import torch\n",
    "import tensorflow as tf\n",
    "import os\n",
    "from PIL import Image\n",
    "import torchvision\n",
    "import torch\n",
    "import matplotlib.pyplot as plt\n",
    "from torch.utils.data import Dataset,DataLoader,random_split\n",
    "from torchvision import transforms\n",
    "import matplotlib.pyplot as plt\n",
    "import torch.nn as nn\n",
    "from torch.utils.tensorboard import SummaryWriter\n",
    "import torch.optim as optim"
   ]
  },
  {
   "cell_type": "code",
   "execution_count": 8,
   "metadata": {},
   "outputs": [],
   "source": [
    "class Custom_data(Dataset):\n",
    "    def __init__(self,root_dir,transform=None):\n",
    "        self.root_dir=root_dir\n",
    "        self.transform=transform\n",
    "        self.file_paths=[]\n",
    "        self.class_names=sorted(os.listdir(root_dir))\n",
    "\n",
    "        for class_name in self.class_names:\n",
    "            class_path=os.path.join(self.root_dir,class_name)\n",
    "            files=[os.path.join(class_path, file) for file in os.listdir(class_path)]\n",
    "            self.file_paths.extend(files)\n",
    "\n",
    "    def __len__(self):\n",
    "        return len(self.file_paths)\n",
    "\n",
    "    def __getitem__(self,idx):\n",
    "        img_path=self.file_paths[idx]\n",
    "        image=Image.open(img_path)\n",
    "\n",
    "        if self.transform:\n",
    "            image=self.transform(image)\n",
    "\n",
    "        class_name=os.path.basename(os.path.dirname(img_path))\n",
    "        label_idx=torch.tensor(self.class_names.index(class_name),dtype=torch.long)\n",
    "        return image,label_idx"
   ]
  },
  {
   "cell_type": "code",
   "execution_count": 9,
   "metadata": {},
   "outputs": [],
   "source": [
    "transform=transforms.Compose([transforms.Resize((256,256)),transforms.ToTensor()])\n",
    "dataset=Custom_data(root_dir=\"D:\\\\SEM-6\\\\DL-LAB\\\\Medicinal_plants_DS\",transform=transform)"
   ]
  },
  {
   "cell_type": "code",
   "execution_count": 10,
   "metadata": {},
   "outputs": [
    {
     "name": "stdout",
     "output_type": "stream",
     "text": [
      "Length of dataset: 2434\n"
     ]
    }
   ],
   "source": [
    "print(\"Length of dataset:\",len(dataset))\n",
    "train_size=int(0.8*len(dataset))\n",
    "test_size=len(dataset)-train_size\n",
    "train_dataset,test_dataset=random_split(dataset,[train_size,test_size])"
   ]
  },
  {
   "cell_type": "code",
   "execution_count": 11,
   "metadata": {},
   "outputs": [],
   "source": [
    "train_loader=DataLoader(train_dataset,batch_size=64,shuffle=True)\n",
    "val_loader=DataLoader(test_dataset,batch_size=64,shuffle=False)"
   ]
  },
  {
   "cell_type": "code",
   "execution_count": 12,
   "metadata": {},
   "outputs": [],
   "source": [
    "class neuralNet(nn.Module):\n",
    "    def __init__(self,inp,out):\n",
    "        super(neuralNet, self).__init__()\n",
    "        self.flatten = nn.Flatten()\n",
    "        self.fc1 = nn.Linear(inp, 128)\n",
    "        self.relu = nn.ReLU()\n",
    "        self.fc2 = nn.Linear(128, out)\n",
    "    def forward(self, x):\n",
    "        x = self.flatten(x)\n",
    "        x = self.fc1(x)\n",
    "        x = self.relu(x)\n",
    "        x = self.fc2(x)\n",
    "        return x"
   ]
  },
  {
   "cell_type": "code",
   "execution_count": 13,
   "metadata": {},
   "outputs": [],
   "source": [
    "epochs=5\n",
    "batch_size=64\n",
    "lr=0.1\n",
    "inp_size=256*256*3\n",
    "out_size=29\n",
    "\n",
    "writer=SummaryWriter(log_dir='./log2')\n",
    "ml=neuralNet(inp_size,out_size)\n",
    "\n",
    "images, labels = next(iter(train_loader))\n",
    "\n",
    "grid = torchvision.utils.make_grid(images)\n",
    "writer.add_image('images', grid, 0)\n",
    "writer.add_graph(ml, images)\n",
    "\n",
    "\n",
    "optimizer=optim.Adam(ml.parameters(),lr=lr)\n",
    "criterion = nn.CrossEntropyLoss()\n"
   ]
  },
  {
   "cell_type": "code",
   "execution_count": 14,
   "metadata": {},
   "outputs": [
    {
     "name": "stdout",
     "output_type": "stream",
     "text": [
      "\n",
      "Epoch 1 Loss: 5785.166133488378\n",
      "\n",
      "Epoch 2 Loss: 3.0576322770887807\n",
      "\n",
      "Epoch 3 Loss: 2.988828412948116\n",
      "\n",
      "Epoch 4 Loss: 2.977351588587607\n",
      "\n",
      "Epoch 5 Loss: 2.9787642648143153\n"
     ]
    }
   ],
   "source": [
    "for epoch in range(epochs):\n",
    "    total_loss=0\n",
    "    for images,labels in train_loader:\n",
    "        outputs=ml(images)\n",
    "        loss=criterion(outputs,labels)\n",
    "        optimizer.zero_grad()\n",
    "        loss.backward()\n",
    "        optimizer.step()\n",
    "        total_loss+=loss.item()\n",
    "    avg_loss=total_loss/len(train_loader)\n",
    "\n",
    "    writer.add_scalar('Loss',avg_loss,global_step=epoch)\n",
    "    \n",
    "\n",
    "    print(\"\\nEpoch\",epoch+1,\"Loss:\",avg_loss)\n",
    "\n",
    "        "
   ]
  },
  {
   "cell_type": "code",
   "execution_count": 15,
   "metadata": {},
   "outputs": [],
   "source": [
    "writer.close()"
   ]
  }
 ],
 "metadata": {
  "kernelspec": {
   "display_name": "Python 3",
   "language": "python",
   "name": "python3"
  },
  "language_info": {
   "codemirror_mode": {
    "name": "ipython",
    "version": 3
   },
   "file_extension": ".py",
   "mimetype": "text/x-python",
   "name": "python",
   "nbconvert_exporter": "python",
   "pygments_lexer": "ipython3",
   "version": "3.10.4"
  },
  "orig_nbformat": 4,
  "vscode": {
   "interpreter": {
    "hash": "26de051ba29f2982a8de78e945f0abaf191376122a1563185a90213a26c5da77"
   }
  }
 },
 "nbformat": 4,
 "nbformat_minor": 2
}
