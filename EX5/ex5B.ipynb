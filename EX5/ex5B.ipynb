{
 "cells": [
  {
   "cell_type": "code",
   "execution_count": 1,
   "metadata": {},
   "outputs": [
    {
     "name": "stdout",
     "output_type": "stream",
     "text": [
      "WARNING:tensorflow:From c:\\Users\\MAAL SUBIKSHA\\AppData\\Local\\Programs\\Python\\Python310\\lib\\site-packages\\keras\\src\\losses.py:2976: The name tf.losses.sparse_softmax_cross_entropy is deprecated. Please use tf.compat.v1.losses.sparse_softmax_cross_entropy instead.\n",
      "\n"
     ]
    }
   ],
   "source": [
    "import tensorflow as tf\n",
    "from tensorflow.keras.preprocessing.image import ImageDataGenerator\n",
    "from tensorflow.keras import layers,models,optimizers\n",
    "from tensorflow.keras.models import Sequential"
   ]
  },
  {
   "cell_type": "code",
   "execution_count": 2,
   "metadata": {},
   "outputs": [],
   "source": [
    "import tensorboard as td"
   ]
  },
  {
   "cell_type": "code",
   "execution_count": 8,
   "metadata": {},
   "outputs": [
    {
     "name": "stdout",
     "output_type": "stream",
     "text": [
      "Found 1955 images belonging to 20 classes.\n",
      "Found 479 images belonging to 20 classes.\n"
     ]
    }
   ],
   "source": [
    "datagen = ImageDataGenerator(rescale=1./255,validation_split=0.2)\n",
    "epochs=5\n",
    "batch_size=64\n",
    "lr=0.1\n",
    "\n",
    "train_generator = datagen.flow_from_directory(\n",
    "        'D:\\\\SEM-6\\\\DL-LAB\\Medicinal_plants_DS\\\\',\n",
    "        target_size=(256, 256),\n",
    "        batch_size=64,\n",
    "        class_mode='categorical',subset='training')\n",
    "\n",
    "test_generator = datagen.flow_from_directory(\n",
    "        'D:\\\\SEM-6\\\\DL-LAB\\Medicinal_plants_DS\\\\',\n",
    "        target_size=(256, 256),\n",
    "        batch_size=64,\n",
    "        class_mode='categorical',subset='validation')\n",
    "\n",
    "\n"
   ]
  },
  {
   "cell_type": "code",
   "execution_count": 12,
   "metadata": {},
   "outputs": [],
   "source": [
    "model = tf.keras.Sequential([\n",
    "    tf.keras.layers.Flatten(input_shape=(256*256*3,)),\n",
    "    tf.keras.layers.Dense(128, activation='relu'),\n",
    "    tf.keras.layers.Dropout(0.2),\n",
    "    tf.keras.layers.Dense(20,activation='softmax')\n",
    "])"
   ]
  },
  {
   "cell_type": "code",
   "execution_count": 13,
   "metadata": {},
   "outputs": [],
   "source": [
    "model.compile(optimizer='Adam',\n",
    "              loss='categorical_crossentropy',\n",
    "              metrics=['accuracy'])"
   ]
  },
  {
   "cell_type": "code",
   "execution_count": 14,
   "metadata": {},
   "outputs": [
    {
     "name": "stdout",
     "output_type": "stream",
     "text": [
      "Epoch 1/5\n",
      "31/31 [==============================] - 69s 2s/step - loss: 33.8705 - accuracy: 0.0532 - val_loss: 2.9952 - val_accuracy: 0.0543\n",
      "Epoch 2/5\n",
      "31/31 [==============================] - 70s 2s/step - loss: 3.4369 - accuracy: 0.0558 - val_loss: 2.9936 - val_accuracy: 0.0543\n",
      "Epoch 3/5\n",
      "31/31 [==============================] - 59s 2s/step - loss: 2.9929 - accuracy: 0.0655 - val_loss: 2.9918 - val_accuracy: 0.0731\n",
      "Epoch 4/5\n",
      "31/31 [==============================] - 38s 1s/step - loss: 2.9911 - accuracy: 0.0716 - val_loss: 2.9902 - val_accuracy: 0.0731\n",
      "Epoch 5/5\n",
      "31/31 [==============================] - 38s 1s/step - loss: 2.9895 - accuracy: 0.0716 - val_loss: 2.9884 - val_accuracy: 0.0731\n"
     ]
    }
   ],
   "source": [
    "tensorboard_callback = tf.keras.callbacks.TensorBoard(log_dir='./logs',write_graph=True, write_images=True)\n",
    "hist=model.fit(train_generator,epochs=epochs,validation_data=test_generator,callbacks=[tensorboard_callback])"
   ]
  },
  {
   "cell_type": "code",
   "execution_count": null,
   "metadata": {},
   "outputs": [],
   "source": [
    "tensorboard_callback.set_model(model)"
   ]
  }
 ],
 "metadata": {
  "kernelspec": {
   "display_name": "Python 3",
   "language": "python",
   "name": "python3"
  },
  "language_info": {
   "codemirror_mode": {
    "name": "ipython",
    "version": 3
   },
   "file_extension": ".py",
   "mimetype": "text/x-python",
   "name": "python",
   "nbconvert_exporter": "python",
   "pygments_lexer": "ipython3",
   "version": "3.10.4"
  },
  "orig_nbformat": 4,
  "vscode": {
   "interpreter": {
    "hash": "26de051ba29f2982a8de78e945f0abaf191376122a1563185a90213a26c5da77"
   }
  }
 },
 "nbformat": 4,
 "nbformat_minor": 2
}
