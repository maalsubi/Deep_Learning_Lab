{
 "cells": [
  {
   "cell_type": "code",
   "execution_count": 1,
   "metadata": {},
   "outputs": [
    {
     "name": "stderr",
     "output_type": "stream",
     "text": [
      "C:\\Users\\21bad014\\AppData\\Roaming\\Python\\Python310\\site-packages\\torch\\nn\\modules\\transformer.py:20: UserWarning: Failed to initialize NumPy: No module named 'numpy' (Triggered internally at ..\\torch\\csrc\\utils\\tensor_numpy.cpp:84.)\n",
      "  device: torch.device = torch.device(torch._C._get_default_device()),  # torch.device('cpu'),\n"
     ]
    }
   ],
   "source": [
    "import torch"
   ]
  },
  {
   "cell_type": "code",
   "execution_count": 2,
   "metadata": {},
   "outputs": [],
   "source": [
    "import torch.nn as nn\n",
    "import torch.optim as optim"
   ]
  },
  {
   "cell_type": "code",
   "execution_count": 30,
   "metadata": {},
   "outputs": [],
   "source": [
    "import torch.nn.functional as F\n",
    "class xor_mlp(nn.Module):\n",
    "    def __init__(self, inp,h1,h2,out):\n",
    "        super(xor_mlp,self).__init__()\n",
    "        self.layer1=nn.Linear(inp,h1)\n",
    "        self.layer2=nn.Linear(h1,h2)\n",
    "        self.layer3=nn.Linear(h2,out)\n",
    "    def forward(self,x):\n",
    "        x=F.relu(self.layer1(x))\n",
    "        x=torch.sigmoid(self.layer2(x))\n",
    "        x=F.relu(self.layer3(x))\n",
    "        return x\n",
    "X=torch.tensor([[0,0],[0,1],[1,0],[1,1]],dtype=torch.float32)\n",
    "y=torch.tensor([[0],[1],[1],[0]],dtype=torch.float32)\n",
    "\n",
    "ml=xor_mlp(2,5,4,1)\n",
    "criterion=nn.L1Loss()\n",
    "optimiser=optim.SGD(ml.parameters(),lr=0.1)\n",
    "epochs=500"
   ]
  },
  {
   "cell_type": "code",
   "execution_count": 31,
   "metadata": {},
   "outputs": [
    {
     "name": "stdout",
     "output_type": "stream",
     "text": [
      "loss for every 100th iteration is 0.4995512366294861\n",
      "loss for every 100th iteration is 0.49469783902168274\n",
      "loss for every 100th iteration is 0.4827512502670288\n",
      "loss for every 100th iteration is 0.4433041512966156\n",
      "loss for every 100th iteration is 0.30034005641937256\n"
     ]
    }
   ],
   "source": [
    "for i in range(epochs):\n",
    "    y_pred=ml(X)\n",
    "    loss=criterion(y_pred,y)\n",
    "    optimiser.zero_grad()\n",
    "    loss.backward()\n",
    "    optimiser.step()\n",
    "    if(((i)%100)==0):\n",
    "        print(\"loss for every 100th iteration is\",loss.item())"
   ]
  },
  {
   "cell_type": "code",
   "execution_count": 32,
   "metadata": {},
   "outputs": [
    {
     "name": "stdout",
     "output_type": "stream",
     "text": [
      "tensor([[1.],\n",
      "        [1.],\n",
      "        [1.],\n",
      "        [0.]])\n"
     ]
    }
   ],
   "source": [
    "with torch.no_grad():\n",
    "    test_inp=torch.tensor([[0,0],[0,1],[1,0],[1,1]],dtype=torch.float32)\n",
    "    pred=ml(test_inp)\n",
    "    print(torch.round(pred))"
   ]
  }
 ],
 "metadata": {
  "kernelspec": {
   "display_name": "Python 3",
   "language": "python",
   "name": "python3"
  },
  "language_info": {
   "codemirror_mode": {
    "name": "ipython",
    "version": 3
   },
   "file_extension": ".py",
   "mimetype": "text/x-python",
   "name": "python",
   "nbconvert_exporter": "python",
   "pygments_lexer": "ipython3",
   "version": "3.10.0"
  },
  "orig_nbformat": 4,
  "vscode": {
   "interpreter": {
    "hash": "26de051ba29f2982a8de78e945f0abaf191376122a1563185a90213a26c5da77"
   }
  }
 },
 "nbformat": 4,
 "nbformat_minor": 2
}
