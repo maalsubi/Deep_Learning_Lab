{
 "cells": [
  {
   "cell_type": "code",
   "execution_count": 2,
   "metadata": {},
   "outputs": [],
   "source": [
    "import torch"
   ]
  },
  {
   "cell_type": "code",
   "execution_count": 19,
   "metadata": {},
   "outputs": [],
   "source": [
    "from torch.autograd import Variable\n",
    "a=Variable(torch.tensor([[4.,5.],[7.,8.]]),requires_grad=True)"
   ]
  },
  {
   "cell_type": "code",
   "execution_count": 20,
   "metadata": {},
   "outputs": [
    {
     "name": "stdout",
     "output_type": "stream",
     "text": [
      "tensor([[142., 242.],\n",
      "        [562., 794.]], grad_fn=<AddBackward0>)\n"
     ]
    }
   ],
   "source": [
    "y=a**3+4*a**2+3*a+2\n",
    "print(y)"
   ]
  },
  {
   "cell_type": "code",
   "execution_count": 21,
   "metadata": {},
   "outputs": [
    {
     "name": "stdout",
     "output_type": "stream",
     "text": [
      "Gradient is  tensor([[ 83., 118.],\n",
      "        [206., 259.]])\n"
     ]
    }
   ],
   "source": [
    "res=torch.sum(y)\n",
    "res.backward()\n",
    "print(\"Gradient is \",a.grad)"
   ]
  },
  {
   "attachments": {},
   "cell_type": "markdown",
   "metadata": {},
   "source": [
    "INVERSE OF MATRIX"
   ]
  },
  {
   "cell_type": "code",
   "execution_count": 10,
   "metadata": {},
   "outputs": [
    {
     "name": "stdout",
     "output_type": "stream",
     "text": [
      "tensor([[1.3000, 4.5000],\n",
      "        [2.5000, 8.9000]], requires_grad=True)\n"
     ]
    }
   ],
   "source": [
    "a=torch.tensor([[1.3,4.5],[2.5,8.9]],dtype=torch.float32,requires_grad=True)\n",
    "print(a)"
   ]
  },
  {
   "cell_type": "code",
   "execution_count": 11,
   "metadata": {},
   "outputs": [
    {
     "name": "stdout",
     "output_type": "stream",
     "text": [
      "tensor([[ 27.8126, -14.0626],\n",
      "        [ -7.8125,   4.0625]], grad_fn=<LinalgInvExBackward0>)\n"
     ]
    }
   ],
   "source": [
    "inv=torch.inverse(a)\n",
    "print(inv)"
   ]
  },
  {
   "cell_type": "code",
   "execution_count": 18,
   "metadata": {},
   "outputs": [
    {
     "name": "stdout",
     "output_type": "stream",
     "text": [
      "tensor([[ 27.8126, -14.0626],\n",
      "        [ -7.8125,   4.0625]], grad_fn=<LinalgInvExBackward0>)\n"
     ]
    }
   ],
   "source": [
    "import torch.nn as nn\n",
    "class inverse(nn.Module):\n",
    "    def __init__(self):\n",
    "        super(inverse,self).__init__()\n",
    "    def forward(self,x):\n",
    "\n",
    "        inv_res=torch.inverse(x)\n",
    "        return inv_res\n",
    "    \n",
    "inverse_obj=inverse()\n",
    "output=inverse_obj(a)\n",
    "\n",
    "print(output)"
   ]
  },
  {
   "cell_type": "code",
   "execution_count": 24,
   "metadata": {},
   "outputs": [
    {
     "name": "stdout",
     "output_type": "stream",
     "text": [
      "tensor([[ 27.8126, -14.0626],\n",
      "        [ -7.8125,   4.0625]])\n"
     ]
    }
   ],
   "source": [
    "a=1.3\n",
    "b=4.5\n",
    "c=2.5\n",
    "d=8.9\n",
    "\n",
    "ori=torch.tensor([[a,b],[c,d]])\n",
    "mat1=torch.tensor([[d,-b],[-c,a]])/torch.det(ori)\n",
    "print(mat1)"
   ]
  },
  {
   "cell_type": "code",
   "execution_count": 25,
   "metadata": {},
   "outputs": [
    {
     "name": "stdout",
     "output_type": "stream",
     "text": [
      "INVERSE OF 2X2 MATRIX\n",
      "[[3, 4], [5, 6]]\n"
     ]
    }
   ],
   "source": [
    "print(\"INVERSE OF 2X2 MATRIX\")\n",
    "lis=[]\n",
    "for i in range(2):\n",
    "    row=[]\n",
    "    for j in range(2):\n",
    "        val=int(input(\"Enter the element at {}{}\".format(i,j)))\n",
    "        row.append(val)\n",
    "    lis.append(row)\n",
    "print(lis)"
   ]
  },
  {
   "cell_type": "code",
   "execution_count": 28,
   "metadata": {},
   "outputs": [
    {
     "name": "stdout",
     "output_type": "stream",
     "text": [
      "Determinant of Matrix is  tensor(-2.)\n"
     ]
    }
   ],
   "source": [
    "t=torch.tensor(lis,dtype=torch.float32)\n",
    "det_val=torch.det(t)\n",
    "print(\"Determinant of Matrix is \",det_val)\n",
    "adj_t1=torch.tensor([[t[1][1],-t[0][1]],[-t[1][0],t[0][0]]])"
   ]
  },
  {
   "cell_type": "code",
   "execution_count": 29,
   "metadata": {},
   "outputs": [
    {
     "name": "stdout",
     "output_type": "stream",
     "text": [
      "Adjoint of matrix \n",
      "tensor([[ 6., -4.],\n",
      "        [-5.,  3.]])\n"
     ]
    }
   ],
   "source": [
    "print(\"Adjoint of matrix \")\n",
    "print(adj_t1)"
   ]
  },
  {
   "cell_type": "code",
   "execution_count": 30,
   "metadata": {},
   "outputs": [
    {
     "name": "stdout",
     "output_type": "stream",
     "text": [
      "Inverse of Matrix is  tensor([[-3.0000,  2.0000],\n",
      "        [ 2.5000, -1.5000]])\n"
     ]
    }
   ],
   "source": [
    "inv=adj_t1/det_val\n",
    "print(\"Inverse of Matrix is \",inv)"
   ]
  },
  {
   "cell_type": "markdown",
   "metadata": {},
   "source": [
    "TENSOR OPERATIONS"
   ]
  },
  {
   "cell_type": "code",
   "execution_count": 4,
   "metadata": {},
   "outputs": [
    {
     "name": "stdout",
     "output_type": "stream",
     "text": [
      "\n",
      "Tensor Addition:\n",
      "tensor([[ 4,  8, 12],\n",
      "        [ 5, 10, 13]])\n",
      "\n",
      "Element-wise Multiplication:\n",
      "tensor([[ 3, 12, 27],\n",
      "        [ 4, 25, 42]])\n",
      "\n",
      "Subration : tensor([[-2, -4, -6],\n",
      "        [ 3,  0, -1]])\n",
      "\n",
      "Division : tensor([[0.3333, 0.3333, 0.3333],\n",
      "        [4.0000, 1.0000, 0.8571]])\n"
     ]
    }
   ],
   "source": [
    "t1=torch.tensor([[1,2,3],[4,5,6]])\n",
    "t2=torch.tensor([[3,6,9],[1,5,7]])\n",
    "\n",
    "sum_res = torch.add(t1, t2)\n",
    "print(\"\\nTensor Addition:\")\n",
    "print(sum_res)\n",
    "\n",
    "# Element-wise multiplication\n",
    "product_res = torch.mul(t1, t2)\n",
    "print(\"\\nElement-wise Multiplication:\")\n",
    "print(product_res)\n",
    "\n",
    "print(\"\\nSubration :\",torch.sub(t1, t2))\n",
    "print(\"\\nDivision :\",torch.div(t1, t2))\n"
   ]
  },
  {
   "cell_type": "code",
   "execution_count": 6,
   "metadata": {},
   "outputs": [
    {
     "name": "stdout",
     "output_type": "stream",
     "text": [
      "\\Matrix Multiplication : tensor([[42, 32],\n",
      "        [96, 71]])\n"
     ]
    }
   ],
   "source": [
    "t2_trans=t2.t()\n",
    "print(\"\\Matrix Multiplication :\",torch.matmul(t1, t2_trans))"
   ]
  },
  {
   "cell_type": "code",
   "execution_count": 14,
   "metadata": {},
   "outputs": [
    {
     "data": {
      "text/plain": [
       "tensor([ 6, 15])"
      ]
     },
     "execution_count": 14,
     "metadata": {},
     "output_type": "execute_result"
    }
   ],
   "source": [
    "torch.sum(t1,1)"
   ]
  },
  {
   "cell_type": "code",
   "execution_count": 15,
   "metadata": {},
   "outputs": [
    {
     "data": {
      "text/plain": [
       "tensor([[1.7321, 2.4495, 3.0000],\n",
       "        [1.0000, 2.2361, 2.6458]])"
      ]
     },
     "execution_count": 15,
     "metadata": {},
     "output_type": "execute_result"
    }
   ],
   "source": [
    "torch.sqrt(t2)"
   ]
  }
 ],
 "metadata": {
  "kernelspec": {
   "display_name": "Python 3",
   "language": "python",
   "name": "python3"
  },
  "language_info": {
   "codemirror_mode": {
    "name": "ipython",
    "version": 3
   },
   "file_extension": ".py",
   "mimetype": "text/x-python",
   "name": "python",
   "nbconvert_exporter": "python",
   "pygments_lexer": "ipython3",
   "version": "3.10.4"
  },
  "orig_nbformat": 4,
  "vscode": {
   "interpreter": {
    "hash": "26de051ba29f2982a8de78e945f0abaf191376122a1563185a90213a26c5da77"
   }
  }
 },
 "nbformat": 4,
 "nbformat_minor": 2
}
