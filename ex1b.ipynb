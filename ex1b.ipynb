{
 "cells": [
  {
   "cell_type": "code",
   "execution_count": 2,
   "metadata": {},
   "outputs": [],
   "source": [
    "import torch\n",
    "import torch.nn as nn\n",
    "import torch.optim as optim"
   ]
  },
  {
   "cell_type": "code",
   "execution_count": 12,
   "metadata": {},
   "outputs": [
    {
     "name": "stdout",
     "output_type": "stream",
     "text": [
      "torch.Size([100, 1])\n"
     ]
    }
   ],
   "source": [
    "torch.manual_seed(34)\n",
    "x=torch.rand(100,1)*10\n",
    "print(x.shape)"
   ]
  },
  {
   "cell_type": "code",
   "execution_count": 13,
   "metadata": {},
   "outputs": [
    {
     "name": "stdout",
     "output_type": "stream",
     "text": [
      "tensor([[20.4551],\n",
      "        [ 7.3602],\n",
      "        [15.6293],\n",
      "        [10.1691],\n",
      "        [19.6665],\n",
      "        [ 2.3579],\n",
      "        [ 3.3207],\n",
      "        [17.3762],\n",
      "        [13.5774],\n",
      "        [23.0603],\n",
      "        [15.4059],\n",
      "        [20.5596],\n",
      "        [ 5.8925],\n",
      "        [22.1967],\n",
      "        [17.9350],\n",
      "        [14.2629],\n",
      "        [15.4413],\n",
      "        [ 7.7694],\n",
      "        [ 5.9655],\n",
      "        [ 8.0493],\n",
      "        [11.8653],\n",
      "        [11.3973],\n",
      "        [ 1.4064],\n",
      "        [ 9.6005],\n",
      "        [13.6563],\n",
      "        [ 5.1451],\n",
      "        [20.2715],\n",
      "        [ 7.2424],\n",
      "        [19.0679],\n",
      "        [22.8662],\n",
      "        [14.1586],\n",
      "        [10.7505],\n",
      "        [16.2600],\n",
      "        [ 7.3804],\n",
      "        [ 5.3704],\n",
      "        [ 8.1524],\n",
      "        [ 7.6354],\n",
      "        [ 7.7190],\n",
      "        [10.5194],\n",
      "        [10.4139],\n",
      "        [23.5538],\n",
      "        [10.4566],\n",
      "        [23.5359],\n",
      "        [14.5723],\n",
      "        [11.1529],\n",
      "        [11.9650],\n",
      "        [15.1533],\n",
      "        [ 8.1378],\n",
      "        [21.6015],\n",
      "        [11.6210],\n",
      "        [19.4427],\n",
      "        [12.5862],\n",
      "        [18.1669],\n",
      "        [ 7.0059],\n",
      "        [ 5.7784],\n",
      "        [21.4123],\n",
      "        [18.0119],\n",
      "        [19.8738],\n",
      "        [ 7.7081],\n",
      "        [10.2374],\n",
      "        [17.3952],\n",
      "        [ 7.5099],\n",
      "        [19.8327],\n",
      "        [15.5757],\n",
      "        [15.1598],\n",
      "        [ 4.1142],\n",
      "        [13.1412],\n",
      "        [ 3.9914],\n",
      "        [ 2.7707],\n",
      "        [ 9.9341],\n",
      "        [19.3665],\n",
      "        [ 6.6268],\n",
      "        [ 7.1167],\n",
      "        [23.0294],\n",
      "        [ 9.2602],\n",
      "        [ 4.9420],\n",
      "        [11.5585],\n",
      "        [ 8.5297],\n",
      "        [ 8.2120],\n",
      "        [14.8542],\n",
      "        [ 9.8110],\n",
      "        [15.5561],\n",
      "        [18.3609],\n",
      "        [ 6.0571],\n",
      "        [ 5.8948],\n",
      "        [17.7680],\n",
      "        [16.7839],\n",
      "        [22.5387],\n",
      "        [ 8.7388],\n",
      "        [ 5.9508],\n",
      "        [22.9608],\n",
      "        [13.7084],\n",
      "        [19.1500],\n",
      "        [15.3286],\n",
      "        [ 5.1721],\n",
      "        [11.6867],\n",
      "        [ 8.3147],\n",
      "        [21.1120],\n",
      "        [ 4.5212],\n",
      "        [17.4663]])\n"
     ]
    }
   ],
   "source": [
    "y=2*x+3+torch.randn(100,1)\n",
    "print(y)"
   ]
  },
  {
   "cell_type": "code",
   "execution_count": 18,
   "metadata": {},
   "outputs": [
    {
     "name": "stdout",
     "output_type": "stream",
     "text": [
      "Model Parameters  <generator object Module.parameters at 0x0000024B534D1E00>\n",
      "Weight is  2.345369577407837\n",
      "Bias is  0.7633099555969238\n"
     ]
    }
   ],
   "source": [
    "class LinearReg(nn.Module):\n",
    "    def __init__(self):\n",
    "        super(LinearReg,self).__init__()\n",
    "        self.linear=nn.Linear(1,1)\n",
    "    def forward(self,x):\n",
    "        return self.linear(x)\n",
    "model=LinearReg()\n",
    "criterion=nn.MSELoss()\n",
    "optimizer=optim.SGD(model.parameters(),lr=0.01)\n",
    "print(\"Model Parameters \",model.parameters())\n",
    "\n",
    "for epoch in range(10):\n",
    "    y_pred=model(x)\n",
    "    loss=criterion(y_pred,y)\n",
    "    optimizer.zero_grad()\n",
    "    loss.backward()\n",
    "    optimizer.step()\n",
    "print(\"Weight is \",model.linear.weight.item())\n",
    "print(\"Bias is \",model.linear.bias.item())"
   ]
  }
 ],
 "metadata": {
  "kernelspec": {
   "display_name": "Python 3",
   "language": "python",
   "name": "python3"
  },
  "language_info": {
   "codemirror_mode": {
    "name": "ipython",
    "version": 3
   },
   "file_extension": ".py",
   "mimetype": "text/x-python",
   "name": "python",
   "nbconvert_exporter": "python",
   "pygments_lexer": "ipython3",
   "version": "3.10.0"
  },
  "orig_nbformat": 4,
  "vscode": {
   "interpreter": {
    "hash": "26de051ba29f2982a8de78e945f0abaf191376122a1563185a90213a26c5da77"
   }
  }
 },
 "nbformat": 4,
 "nbformat_minor": 2
}
