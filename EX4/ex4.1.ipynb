{
 "cells": [
  {
   "cell_type": "code",
   "execution_count": 12,
   "metadata": {},
   "outputs": [],
   "source": [
    "import math\n",
    "import torch"
   ]
  },
  {
   "cell_type": "code",
   "execution_count": 19,
   "metadata": {},
   "outputs": [
    {
     "name": "stdout",
     "output_type": "stream",
     "text": [
      "[0, 0, 1, 1]\n",
      "Winning cluster :  1\n",
      "[1, 0, 0, 0]\n",
      "Winning cluster :  2\n",
      "[0, 1, 1, 0]\n",
      "Winning cluster :  1\n",
      "[0, 0, 0, 1]\n",
      "Winning cluster :  1\n",
      "[0, 0, 1, 1]\n",
      "Winning cluster :  1\n",
      "[1, 0, 0, 0]\n",
      "Winning cluster :  2\n",
      "[0, 1, 1, 0]\n",
      "Winning cluster :  1\n",
      "[0, 0, 0, 1]\n",
      "Winning cluster :  1\n",
      "[0, 0, 1, 1]\n",
      "Winning cluster :  1\n",
      "[1, 0, 0, 0]\n",
      "Winning cluster :  2\n",
      "[0, 1, 1, 0]\n",
      "Winning cluster :  1\n",
      "[0, 0, 0, 1]\n",
      "Winning cluster :  1\n",
      "Test input s belongs to Cluster :  1\n",
      "Trained weights :  tensor([[0.0071, 0.3198, 0.5521, 0.6873],\n",
      "        [0.9672, 0.2297, 0.1641, 0.0984]])\n"
     ]
    }
   ],
   "source": [
    "def winner(weights, input):\n",
    "    c1 = 0\n",
    "    c2 = 0\n",
    "    for i in range(len(input)):\n",
    "        c1+=torch.pow((input[i] - weights[0][i]), 2)\n",
    "        c2+=torch.pow((input[i] - weights[1][i]), 2)\n",
    "    if c1 < c2:\n",
    "        return 1\n",
    "    else:\n",
    "        return 2\n",
    " \n",
    "def update(weights, input, win_cluster, alpha):\n",
    "    for i in range(len(weights[0])):\n",
    "        weights[win_cluster-1][i] = weights[win_cluster-1][i] + alpha * (input[i] - weights[win_cluster-1][i])\n",
    "    return weights\n",
    " \n",
    "data = [[0,0,1,1], [1, 0, 0, 0], [0,1,1,0], [0, 0, 0, 1]]\n",
    "tdata=torch.tensor(data)\n",
    "weights = torch.tensor([[0.2, 0.4, 0.6, 0.8], [0.9, 0.7, 0.5, 0.3]])\n",
    "epochs = 3\n",
    "alpha = 0.5\n",
    " \n",
    "for i in range(epochs):\n",
    "    for j in range(len(data)):\n",
    "        input = data[j]\n",
    "        print(input)\n",
    "        win_cluster = winner(weights, input)\n",
    "        print(\"Winning cluster : \",win_cluster)\n",
    "        weights = update(weights, input, win_cluster, alpha)\n",
    "    alpha=alpha/2\n",
    " \n",
    "s = [0, 0, 0, 1]\n",
    "win_cluster = winner(weights, s)\n",
    "print(\"Test input s belongs to Cluster : \", win_cluster)\n",
    "print(\"Trained weights : \", weights)\n",
    " "
   ]
  },
  {
   "cell_type": "code",
   "execution_count": 18,
   "metadata": {},
   "outputs": [
    {
     "data": {
      "text/plain": [
       "tensor(0.4000)"
      ]
     },
     "execution_count": 18,
     "metadata": {},
     "output_type": "execute_result"
    }
   ],
   "source": [
    "tweights = torch.tensor([[0.2, 0.4, 0.6, 0.8], [0.9, 0.7, 0.5, 0.3]])\n",
    "tweights[0][1]"
   ]
  }
 ],
 "metadata": {
  "kernelspec": {
   "display_name": "Python 3",
   "language": "python",
   "name": "python3"
  },
  "language_info": {
   "codemirror_mode": {
    "name": "ipython",
    "version": 3
   },
   "file_extension": ".py",
   "mimetype": "text/x-python",
   "name": "python",
   "nbconvert_exporter": "python",
   "pygments_lexer": "ipython3",
   "version": "3.10.0"
  },
  "orig_nbformat": 4,
  "vscode": {
   "interpreter": {
    "hash": "26de051ba29f2982a8de78e945f0abaf191376122a1563185a90213a26c5da77"
   }
  }
 },
 "nbformat": 4,
 "nbformat_minor": 2
}
